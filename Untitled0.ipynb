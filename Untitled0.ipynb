{
  "nbformat": 4,
  "nbformat_minor": 0,
  "metadata": {
    "colab": {
      "provenance": [],
      "authorship_tag": "ABX9TyO3g+3mwAj169kIG3QWhozC",
      "include_colab_link": true
    },
    "kernelspec": {
      "name": "python3",
      "display_name": "Python 3"
    },
    "language_info": {
      "name": "python"
    }
  },
  "cells": [
    {
      "cell_type": "markdown",
      "metadata": {
        "id": "view-in-github",
        "colab_type": "text"
      },
      "source": [
        "<a href=\"https://colab.research.google.com/github/marosamipe27/SeminarioDeProyectos_WordCount_MRSMP/blob/copy/Untitled0.ipynb\" target=\"_parent\"><img src=\"https://colab.research.google.com/assets/colab-badge.svg\" alt=\"Open In Colab\"/></a>"
      ]
    },
    {
      "cell_type": "code",
      "execution_count": 30,
      "metadata": {
        "id": "apAEPSpsHJQS",
        "colab": {
          "base_uri": "https://localhost:8080/"
        },
        "outputId": "6eb4a7d8-5520-4763-ac6b-a685475e55d8"
      },
      "outputs": [
        {
          "output_type": "stream",
          "name": "stderr",
          "text": [
            "[nltk_data] Downloading package stopwords to /root/nltk_data...\n",
            "[nltk_data]   Package stopwords is already up-to-date!\n"
          ]
        },
        {
          "output_type": "execute_result",
          "data": {
            "text/plain": [
              "True"
            ]
          },
          "metadata": {},
          "execution_count": 30
        }
      ],
      "source": [
        "# Import and download packages\n",
        "import requests\n",
        "import csv\n",
        "from bs4 import BeautifulSoup\n",
        "import nltk\n",
        "from collections import Counter\n",
        "nltk.download('stopwords')"
      ]
    },
    {
      "cell_type": "code",
      "source": [
        "# Get The War Of The Worlds HTML\n",
        "r = requests.get('https://www.gutenberg.org/cache/epub/36/pg36-images.html')\n",
        "\n",
        "# Set the correct text encoding of the HTML page\n",
        "r.encoding = 'utf-8'"
      ],
      "metadata": {
        "id": "VNVQ8oPCHkA1"
      },
      "execution_count": 31,
      "outputs": []
    },
    {
      "cell_type": "code",
      "source": [
        "# Extract the HTML from the request object\n",
        "html = r.text\n",
        "\n",
        "# Print 1000 characters in html\n",
        "print(html[15000:16000])"
      ],
      "metadata": {
        "id": "dmm3aG4uHrWD",
        "colab": {
          "base_uri": "https://localhost:8080/"
        },
        "outputId": "e7b4c543-fd82-443c-ab0d-83793b51e6a0"
      },
      "execution_count": 32,
      "outputs": [
        {
          "output_type": "stream",
          "name": "stdout",
          "text": [
            "led to interpret the fluctuating appearances\r\n",
            "of the markings they mapped so well. All that time the Martians must have been\r\n",
            "getting ready.\r\n",
            "</p>\r\n",
            "<p>\r\n",
            "During the opposition of 1894 a great light was seen on the illuminated part of\r\n",
            "the disk, first at the Lick Observatory, then by Perrotin of Nice, and then by\r\n",
            "other observers. English readers heard of it first in the issue of\r\n",
            "<i>Nature</i> dated August 2. I am inclined to think that this blaze may have\r\n",
            "been the casting of the huge gun, in the vast pit sunk into their planet, from\r\n",
            "which their shots were fired at us. Peculiar markings, as yet unexplained, were\r\n",
            "seen near the site of that outbreak during the next two oppositions.\r\n",
            "</p>\r\n",
            "<p>\r\n",
            "The storm burst upon us six years ago now. As Mars approached opposition,\r\n",
            "Lavelle of Java set the wires of the astronomical exchange palpitating with the\r\n",
            "amazing intelligence of a huge outbreak of incandescent gas upon the planet. It\r\n",
            "had occurred towards midnight of the twelfth; and the spectr\n"
          ]
        }
      ]
    },
    {
      "cell_type": "code",
      "source": [
        "# Create a BeautifulSoup object from the HTML\n",
        "html_soup = BeautifulSoup(html, \"html.parser\")\n",
        "\n",
        "# Get the text out of the soup\n",
        "twotw_text = html_soup.get_text()\n",
        "# Create a tokenizer\n",
        "tokenizer = nltk.tokenize.RegexpTokenizer('\\w+')\n",
        "\n",
        "# Tokenize the text\n",
        "tokens = tokenizer.tokenize(twotw_text)\n",
        "# Create a list called words containing all tokens transformed to lowercase\n",
        "words = [token.lower() for token in tokens]\n",
        "\n",
        "# Print out the first eight words\n",
        "words[:8]"
      ],
      "metadata": {
        "colab": {
          "base_uri": "https://localhost:8080/"
        },
        "id": "iZgSqqhC8Chs",
        "outputId": "5b1e73e4-37d8-406f-cc68-03dade520863"
      },
      "execution_count": 33,
      "outputs": [
        {
          "output_type": "execute_result",
          "data": {
            "text/plain": [
              "['the', 'project', 'gutenberg', 'ebook', 'of', 'the', 'war', 'of']"
            ]
          },
          "metadata": {},
          "execution_count": 33
        }
      ]
    },
    {
      "cell_type": "code",
      "source": [
        "# Get the English stop words from nltk\n",
        "stop_words = nltk.corpus.stopwords.words('english')\n",
        "\n",
        "# Print out the first eight stop words\n",
        "stop_words[:8]"
      ],
      "metadata": {
        "colab": {
          "base_uri": "https://localhost:8080/"
        },
        "id": "oGVvd35v8PxK",
        "outputId": "25fc4081-02e9-4910-cd79-da0a3524cdc3"
      },
      "execution_count": 34,
      "outputs": [
        {
          "output_type": "execute_result",
          "data": {
            "text/plain": [
              "['i', 'me', 'my', 'myself', 'we', 'our', 'ours', 'ourselves']"
            ]
          },
          "metadata": {},
          "execution_count": 34
        }
      ]
    },
    {
      "cell_type": "code",
      "source": [
        "# Create a list words_ns containing all words that are in words but not in stop_words\n",
        "words_no_stop = [word for word in words if word not in stop_words]\n",
        "\n",
        "# Print the first five words_no_stop to check that stop words are gone\n",
        "words_no_stop[:5]"
      ],
      "metadata": {
        "colab": {
          "base_uri": "https://localhost:8080/"
        },
        "id": "9iZvLoOj8fqM",
        "outputId": "6658f896-67b3-42d6-91dd-94896a31ccb6"
      },
      "execution_count": 35,
      "outputs": [
        {
          "output_type": "execute_result",
          "data": {
            "text/plain": [
              "['project', 'gutenberg', 'ebook', 'war', 'worlds']"
            ]
          },
          "metadata": {},
          "execution_count": 35
        }
      ]
    },
    {
      "cell_type": "code",
      "source": [
        "# Initialize a Counter object from our processed list of words\n",
        "count_total = Counter(words_no_stop)\n",
        "\n",
        "# Store ten most common words and their counts as top_ten\n",
        "top_ten = count_total.most_common(10)\n",
        "\n",
        "# Print the top ten words and their counts\n",
        "print(top_ten)\n",
        "\n",
        "# Saving top 100 to CSV file\n",
        "# N.b. change filename to reflect chosen book\n",
        "filename = 'words_thewaroftheworlds.csv'\n",
        "with open(filename, 'w', newline='') as csvfile:\n",
        "\n",
        "    writer = csv.writer(csvfile, delimiter=',',  quotechar='\"',\n",
        "                                     quoting=csv.QUOTE_MINIMAL)\n",
        "    writer.writerow([\"word\",\"count\"])\n",
        "    for key, count in count_total.most_common(100):\n",
        "        word = key\n",
        "        writer.writerow([word, count])"
      ],
      "metadata": {
        "colab": {
          "base_uri": "https://localhost:8080/"
        },
        "id": "hlWdKsqh8jYi",
        "outputId": "077af6c8-6eb3-4ade-eb89-9a5b6357e5b9"
      },
      "execution_count": 36,
      "outputs": [
        {
          "output_type": "stream",
          "name": "stdout",
          "text": [
            "[('one', 204), ('upon', 174), ('martians', 166), ('said', 166), ('people', 162), ('came', 151), ('saw', 131), ('towards', 129), ('man', 127), ('time', 122)]\n"
          ]
        }
      ]
    },
    {
      "cell_type": "code",
      "source": [
        "import pandas as pd\n",
        "import os\n",
        "import numpy as np\n",
        "# Create list of csv files in current working directory\n",
        "csv_files = [f for f in os.listdir(os.getcwd()) if f.endswith('.csv')]\n",
        "print(csv_files)"
      ],
      "metadata": {
        "colab": {
          "base_uri": "https://localhost:8080/"
        },
        "id": "yK-_kenSCT9y",
        "outputId": "d7614191-1237-451f-ac34-248c74fade92"
      },
      "execution_count": 37,
      "outputs": [
        {
          "output_type": "stream",
          "name": "stdout",
          "text": [
            "['words_thewaroftheworlds.csv', 'words_mobydick.csv']\n"
          ]
        }
      ]
    },
    {
      "cell_type": "code",
      "source": [
        "# Initial dataframe\n",
        "dfs = []\n",
        "\n",
        "# Read in each csv one-by-one and append\n",
        "for csv in csv_files:\n",
        "    df = pd.read_csv(csv)\n",
        "    dfs.append(df)\n",
        "\n",
        "#concatenate list\n",
        "combined_df = pd.concat(dfs, ignore_index=True)\n",
        "\n",
        "# sort combined dataframe by descending values\n",
        "combined_df.sort_values(by=['count','word'], ascending=False, inplace=True)\n",
        "\n",
        "# preview\n",
        "combined_df.head()"
      ],
      "metadata": {
        "colab": {
          "base_uri": "https://localhost:8080/",
          "height": 206
        },
        "id": "fJfH38ijCirB",
        "outputId": "3fd36461-3446-44fc-90b8-f8e33fb6ed34"
      },
      "execution_count": 38,
      "outputs": [
        {
          "output_type": "execute_result",
          "data": {
            "text/plain": [
              "     word  count\n",
              "0     one    204\n",
              "100   one    204\n",
              "1    upon    174\n",
              "101  upon    174\n",
              "3    said    166"
            ],
            "text/html": [
              "\n",
              "  <div id=\"df-c38b546b-df7e-48b5-9513-09691419a9fb\" class=\"colab-df-container\">\n",
              "    <div>\n",
              "<style scoped>\n",
              "    .dataframe tbody tr th:only-of-type {\n",
              "        vertical-align: middle;\n",
              "    }\n",
              "\n",
              "    .dataframe tbody tr th {\n",
              "        vertical-align: top;\n",
              "    }\n",
              "\n",
              "    .dataframe thead th {\n",
              "        text-align: right;\n",
              "    }\n",
              "</style>\n",
              "<table border=\"1\" class=\"dataframe\">\n",
              "  <thead>\n",
              "    <tr style=\"text-align: right;\">\n",
              "      <th></th>\n",
              "      <th>word</th>\n",
              "      <th>count</th>\n",
              "    </tr>\n",
              "  </thead>\n",
              "  <tbody>\n",
              "    <tr>\n",
              "      <th>0</th>\n",
              "      <td>one</td>\n",
              "      <td>204</td>\n",
              "    </tr>\n",
              "    <tr>\n",
              "      <th>100</th>\n",
              "      <td>one</td>\n",
              "      <td>204</td>\n",
              "    </tr>\n",
              "    <tr>\n",
              "      <th>1</th>\n",
              "      <td>upon</td>\n",
              "      <td>174</td>\n",
              "    </tr>\n",
              "    <tr>\n",
              "      <th>101</th>\n",
              "      <td>upon</td>\n",
              "      <td>174</td>\n",
              "    </tr>\n",
              "    <tr>\n",
              "      <th>3</th>\n",
              "      <td>said</td>\n",
              "      <td>166</td>\n",
              "    </tr>\n",
              "  </tbody>\n",
              "</table>\n",
              "</div>\n",
              "    <div class=\"colab-df-buttons\">\n",
              "\n",
              "  <div class=\"colab-df-container\">\n",
              "    <button class=\"colab-df-convert\" onclick=\"convertToInteractive('df-c38b546b-df7e-48b5-9513-09691419a9fb')\"\n",
              "            title=\"Convert this dataframe to an interactive table.\"\n",
              "            style=\"display:none;\">\n",
              "\n",
              "  <svg xmlns=\"http://www.w3.org/2000/svg\" height=\"24px\" viewBox=\"0 -960 960 960\">\n",
              "    <path d=\"M120-120v-720h720v720H120Zm60-500h600v-160H180v160Zm220 220h160v-160H400v160Zm0 220h160v-160H400v160ZM180-400h160v-160H180v160Zm440 0h160v-160H620v160ZM180-180h160v-160H180v160Zm440 0h160v-160H620v160Z\"/>\n",
              "  </svg>\n",
              "    </button>\n",
              "\n",
              "  <style>\n",
              "    .colab-df-container {\n",
              "      display:flex;\n",
              "      gap: 12px;\n",
              "    }\n",
              "\n",
              "    .colab-df-convert {\n",
              "      background-color: #E8F0FE;\n",
              "      border: none;\n",
              "      border-radius: 50%;\n",
              "      cursor: pointer;\n",
              "      display: none;\n",
              "      fill: #1967D2;\n",
              "      height: 32px;\n",
              "      padding: 0 0 0 0;\n",
              "      width: 32px;\n",
              "    }\n",
              "\n",
              "    .colab-df-convert:hover {\n",
              "      background-color: #E2EBFA;\n",
              "      box-shadow: 0px 1px 2px rgba(60, 64, 67, 0.3), 0px 1px 3px 1px rgba(60, 64, 67, 0.15);\n",
              "      fill: #174EA6;\n",
              "    }\n",
              "\n",
              "    .colab-df-buttons div {\n",
              "      margin-bottom: 4px;\n",
              "    }\n",
              "\n",
              "    [theme=dark] .colab-df-convert {\n",
              "      background-color: #3B4455;\n",
              "      fill: #D2E3FC;\n",
              "    }\n",
              "\n",
              "    [theme=dark] .colab-df-convert:hover {\n",
              "      background-color: #434B5C;\n",
              "      box-shadow: 0px 1px 3px 1px rgba(0, 0, 0, 0.15);\n",
              "      filter: drop-shadow(0px 1px 2px rgba(0, 0, 0, 0.3));\n",
              "      fill: #FFFFFF;\n",
              "    }\n",
              "  </style>\n",
              "\n",
              "    <script>\n",
              "      const buttonEl =\n",
              "        document.querySelector('#df-c38b546b-df7e-48b5-9513-09691419a9fb button.colab-df-convert');\n",
              "      buttonEl.style.display =\n",
              "        google.colab.kernel.accessAllowed ? 'block' : 'none';\n",
              "\n",
              "      async function convertToInteractive(key) {\n",
              "        const element = document.querySelector('#df-c38b546b-df7e-48b5-9513-09691419a9fb');\n",
              "        const dataTable =\n",
              "          await google.colab.kernel.invokeFunction('convertToInteractive',\n",
              "                                                    [key], {});\n",
              "        if (!dataTable) return;\n",
              "\n",
              "        const docLinkHtml = 'Like what you see? Visit the ' +\n",
              "          '<a target=\"_blank\" href=https://colab.research.google.com/notebooks/data_table.ipynb>data table notebook</a>'\n",
              "          + ' to learn more about interactive tables.';\n",
              "        element.innerHTML = '';\n",
              "        dataTable['output_type'] = 'display_data';\n",
              "        await google.colab.output.renderOutput(dataTable, element);\n",
              "        const docLink = document.createElement('div');\n",
              "        docLink.innerHTML = docLinkHtml;\n",
              "        element.appendChild(docLink);\n",
              "      }\n",
              "    </script>\n",
              "  </div>\n",
              "\n",
              "\n",
              "<div id=\"df-6e01cbbb-94b4-4b41-ab54-77cf4f0359c4\">\n",
              "  <button class=\"colab-df-quickchart\" onclick=\"quickchart('df-6e01cbbb-94b4-4b41-ab54-77cf4f0359c4')\"\n",
              "            title=\"Suggest charts\"\n",
              "            style=\"display:none;\">\n",
              "\n",
              "<svg xmlns=\"http://www.w3.org/2000/svg\" height=\"24px\"viewBox=\"0 0 24 24\"\n",
              "     width=\"24px\">\n",
              "    <g>\n",
              "        <path d=\"M19 3H5c-1.1 0-2 .9-2 2v14c0 1.1.9 2 2 2h14c1.1 0 2-.9 2-2V5c0-1.1-.9-2-2-2zM9 17H7v-7h2v7zm4 0h-2V7h2v10zm4 0h-2v-4h2v4z\"/>\n",
              "    </g>\n",
              "</svg>\n",
              "  </button>\n",
              "\n",
              "<style>\n",
              "  .colab-df-quickchart {\n",
              "      --bg-color: #E8F0FE;\n",
              "      --fill-color: #1967D2;\n",
              "      --hover-bg-color: #E2EBFA;\n",
              "      --hover-fill-color: #174EA6;\n",
              "      --disabled-fill-color: #AAA;\n",
              "      --disabled-bg-color: #DDD;\n",
              "  }\n",
              "\n",
              "  [theme=dark] .colab-df-quickchart {\n",
              "      --bg-color: #3B4455;\n",
              "      --fill-color: #D2E3FC;\n",
              "      --hover-bg-color: #434B5C;\n",
              "      --hover-fill-color: #FFFFFF;\n",
              "      --disabled-bg-color: #3B4455;\n",
              "      --disabled-fill-color: #666;\n",
              "  }\n",
              "\n",
              "  .colab-df-quickchart {\n",
              "    background-color: var(--bg-color);\n",
              "    border: none;\n",
              "    border-radius: 50%;\n",
              "    cursor: pointer;\n",
              "    display: none;\n",
              "    fill: var(--fill-color);\n",
              "    height: 32px;\n",
              "    padding: 0;\n",
              "    width: 32px;\n",
              "  }\n",
              "\n",
              "  .colab-df-quickchart:hover {\n",
              "    background-color: var(--hover-bg-color);\n",
              "    box-shadow: 0 1px 2px rgba(60, 64, 67, 0.3), 0 1px 3px 1px rgba(60, 64, 67, 0.15);\n",
              "    fill: var(--button-hover-fill-color);\n",
              "  }\n",
              "\n",
              "  .colab-df-quickchart-complete:disabled,\n",
              "  .colab-df-quickchart-complete:disabled:hover {\n",
              "    background-color: var(--disabled-bg-color);\n",
              "    fill: var(--disabled-fill-color);\n",
              "    box-shadow: none;\n",
              "  }\n",
              "\n",
              "  .colab-df-spinner {\n",
              "    border: 2px solid var(--fill-color);\n",
              "    border-color: transparent;\n",
              "    border-bottom-color: var(--fill-color);\n",
              "    animation:\n",
              "      spin 1s steps(1) infinite;\n",
              "  }\n",
              "\n",
              "  @keyframes spin {\n",
              "    0% {\n",
              "      border-color: transparent;\n",
              "      border-bottom-color: var(--fill-color);\n",
              "      border-left-color: var(--fill-color);\n",
              "    }\n",
              "    20% {\n",
              "      border-color: transparent;\n",
              "      border-left-color: var(--fill-color);\n",
              "      border-top-color: var(--fill-color);\n",
              "    }\n",
              "    30% {\n",
              "      border-color: transparent;\n",
              "      border-left-color: var(--fill-color);\n",
              "      border-top-color: var(--fill-color);\n",
              "      border-right-color: var(--fill-color);\n",
              "    }\n",
              "    40% {\n",
              "      border-color: transparent;\n",
              "      border-right-color: var(--fill-color);\n",
              "      border-top-color: var(--fill-color);\n",
              "    }\n",
              "    60% {\n",
              "      border-color: transparent;\n",
              "      border-right-color: var(--fill-color);\n",
              "    }\n",
              "    80% {\n",
              "      border-color: transparent;\n",
              "      border-right-color: var(--fill-color);\n",
              "      border-bottom-color: var(--fill-color);\n",
              "    }\n",
              "    90% {\n",
              "      border-color: transparent;\n",
              "      border-bottom-color: var(--fill-color);\n",
              "    }\n",
              "  }\n",
              "</style>\n",
              "\n",
              "  <script>\n",
              "    async function quickchart(key) {\n",
              "      const quickchartButtonEl =\n",
              "        document.querySelector('#' + key + ' button');\n",
              "      quickchartButtonEl.disabled = true;  // To prevent multiple clicks.\n",
              "      quickchartButtonEl.classList.add('colab-df-spinner');\n",
              "      try {\n",
              "        const charts = await google.colab.kernel.invokeFunction(\n",
              "            'suggestCharts', [key], {});\n",
              "      } catch (error) {\n",
              "        console.error('Error during call to suggestCharts:', error);\n",
              "      }\n",
              "      quickchartButtonEl.classList.remove('colab-df-spinner');\n",
              "      quickchartButtonEl.classList.add('colab-df-quickchart-complete');\n",
              "    }\n",
              "    (() => {\n",
              "      let quickchartButtonEl =\n",
              "        document.querySelector('#df-6e01cbbb-94b4-4b41-ab54-77cf4f0359c4 button');\n",
              "      quickchartButtonEl.style.display =\n",
              "        google.colab.kernel.accessAllowed ? 'block' : 'none';\n",
              "    })();\n",
              "  </script>\n",
              "</div>\n",
              "\n",
              "    </div>\n",
              "  </div>\n"
            ],
            "application/vnd.google.colaboratory.intrinsic+json": {
              "type": "dataframe",
              "variable_name": "combined_df",
              "summary": "{\n  \"name\": \"combined_df\",\n  \"rows\": 200,\n  \"fields\": [\n    {\n      \"column\": \"word\",\n      \"properties\": {\n        \"dtype\": \"string\",\n        \"num_unique_values\": 100,\n        \"samples\": [\n          \"thought\",\n          \"far\",\n          \"thing\"\n        ],\n        \"semantic_type\": \"\",\n        \"description\": \"\"\n      }\n    },\n    {\n      \"column\": \"count\",\n      \"properties\": {\n        \"dtype\": \"number\",\n        \"std\": 33,\n        \"min\": 43,\n        \"max\": 204,\n        \"num_unique_values\": 56,\n        \"samples\": [\n          204,\n          131,\n          68\n        ],\n        \"semantic_type\": \"\",\n        \"description\": \"\"\n      }\n    }\n  ]\n}"
            }
          },
          "metadata": {},
          "execution_count": 38
        }
      ]
    },
    {
      "source": [
        "# @title count\n",
        "\n",
        "from matplotlib import pyplot as plt\n",
        "combined_df['count'].plot(kind='hist', bins=20, title='count')\n",
        "plt.gca().spines[['top', 'right',]].set_visible(False)"
      ],
      "cell_type": "code",
      "execution_count": 40,
      "outputs": [
        {
          "output_type": "display_data",
          "data": {
            "text/plain": [
              "<Figure size 640x480 with 1 Axes>"
            ],
            "image/png": "[encoded data removed]"
          },
          "metadata": {}
        }
      ],
      "metadata": {
        "colab": {
          "base_uri": "https://localhost:8080/",
          "height": 452
        },
        "id": "2kyZMdahDFUy",
        "outputId": "d6b84584-e70f-47fd-bebb-7e16d5f6a49f"
      }
    },
    {
      "cell_type": "code",
      "source": [
        "# Optional, write combined data to CSV\n",
        "\n",
        "save_bool = False # Switch to 'True' to save to CSV\n",
        "\n",
        "if save_bool:\n",
        "    filename = 'combined_dataset.csv'\n",
        "    combined_df.to_csv(filename, index=False)"
      ],
      "metadata": {
        "id": "_je0kWtfCqnc"
      },
      "execution_count": 39,
      "outputs": []
    }
  ]
}